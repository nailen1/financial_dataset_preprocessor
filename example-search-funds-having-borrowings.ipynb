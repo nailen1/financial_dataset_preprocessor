{
 "cells": [
  {
   "cell_type": "code",
   "execution_count": 4,
   "metadata": {},
   "outputs": [],
   "source": [
    "from financial_dataset_preprocessor import *"
   ]
  },
  {
   "cell_type": "code",
   "execution_count": null,
   "metadata": {},
   "outputs": [
    {
     "name": "stdout",
     "output_type": "stream",
     "text": [
      "1730 Files matching the regex 'menu8186-code000000' in the bucket 'dataset-system' with prefix 'dataset-menu8186-snapshot/':\n",
      "Successfully read file: dataset-menu8186-snapshot/menu8186-code000000-at20250219-save20250220.csv\n",
      "DataFrame shape: (176, 40)\n"
     ]
    },
    {
     "name": "stderr",
     "output_type": "stream",
     "text": [
      "  1%|          | 1/176 [00:03<10:27,  3.58s/it]"
     ]
    },
    {
     "name": "stdout",
     "output_type": "stream",
     "text": [
      "197 Files matching the regex 'menu2205-code000005' in the bucket 'dataset-system' with prefix 'dataset-menu2205/':\n",
      "Successfully read file: dataset-menu2205/menu2205-code000005-at20250219-save20250220.csv\n",
      "DataFrame shape: (17, 78)\n"
     ]
    },
    {
     "name": "stderr",
     "output_type": "stream",
     "text": [
      "  1%|          | 2/176 [00:07<10:14,  3.53s/it]"
     ]
    },
    {
     "name": "stdout",
     "output_type": "stream",
     "text": [
      "197 Files matching the regex 'menu2205-code000006' in the bucket 'dataset-system' with prefix 'dataset-menu2205/':\n",
      "Successfully read file: dataset-menu2205/menu2205-code000006-at20250219-save20250220.csv\n",
      "DataFrame shape: (3, 78)\n"
     ]
    },
    {
     "name": "stderr",
     "output_type": "stream",
     "text": [
      "  2%|▏         | 4/176 [00:12<08:57,  3.13s/it]"
     ]
    },
    {
     "name": "stdout",
     "output_type": "stream",
     "text": [
      "197 Files matching the regex 'menu2205-code000014' in the bucket 'dataset-system' with prefix 'dataset-menu2205/':\n",
      "Successfully read file: dataset-menu2205/menu2205-code000014-at20250219-save20250220.csv\n",
      "DataFrame shape: (3, 78)\n"
     ]
    },
    {
     "name": "stderr",
     "output_type": "stream",
     "text": [
      "  3%|▎         | 5/176 [00:16<09:21,  3.28s/it]"
     ]
    },
    {
     "name": "stdout",
     "output_type": "stream",
     "text": [
      "197 Files matching the regex 'menu2205-code000018' in the bucket 'dataset-system' with prefix 'dataset-menu2205/':\n",
      "Successfully read file: dataset-menu2205/menu2205-code000018-at20250219-save20250220.csv\n",
      "DataFrame shape: (76, 78)\n"
     ]
    },
    {
     "name": "stderr",
     "output_type": "stream",
     "text": [
      "  3%|▎         | 6/176 [00:19<09:29,  3.35s/it]"
     ]
    },
    {
     "name": "stdout",
     "output_type": "stream",
     "text": [
      "197 Files matching the regex 'menu2205-code000019' in the bucket 'dataset-system' with prefix 'dataset-menu2205/':\n",
      "Successfully read file: dataset-menu2205/menu2205-code000019-at20250219-save20250220.csv\n",
      "DataFrame shape: (3, 78)\n"
     ]
    }
   ],
   "source": [
    "# 12분 가량 소요\n",
    "dct = search_funds_having_borrowings(date_ref=None)"
   ]
  },
  {
   "cell_type": "code",
   "execution_count": null,
   "metadata": {},
   "outputs": [],
   "source": [
    "dct_borrowings = {k: v for k, v in dct.items() if v is not None}"
   ]
  },
  {
   "cell_type": "code",
   "execution_count": null,
   "metadata": {},
   "outputs": [],
   "source": [
    "fund_names_having_borrowings = [get_all_fund_names()[k] for k, v in dct_borrowings.items()]"
   ]
  }
 ],
 "metadata": {
  "kernelspec": {
   "display_name": "env-preprocessor",
   "language": "python",
   "name": "python3"
  },
  "language_info": {
   "codemirror_mode": {
    "name": "ipython",
    "version": 3
   },
   "file_extension": ".py",
   "mimetype": "text/x-python",
   "name": "python",
   "nbconvert_exporter": "python",
   "pygments_lexer": "ipython3",
   "version": "3.11.9"
  }
 },
 "nbformat": 4,
 "nbformat_minor": 2
}
