{
 "cells": [
  {
   "cell_type": "code",
   "execution_count": 1,
   "metadata": {},
   "outputs": [
    {
     "name": "stderr",
     "output_type": "stream",
     "text": [
      "INFO:shining_pebbles:shining_pebbles package initialized\n"
     ]
    }
   ],
   "source": [
    "from financial_dataset_preprocessor import *"
   ]
  },
  {
   "cell_type": "code",
   "execution_count": 2,
   "metadata": {},
   "outputs": [
    {
     "name": "stdout",
     "output_type": "stream",
     "text": [
      "1730 Files matching the regex 'menu8186-code000000' in the bucket 'dataset-system' with prefix 'dataset-menu8186-snapshot/':\n",
      "Successfully read file: dataset-menu8186-snapshot/menu8186-code000000-at20250219-save20250220.csv\n",
      "DataFrame shape: (176, 40)\n"
     ]
    },
    {
     "data": {
      "text/plain": [
       "163302839321.0"
      ]
     },
     "execution_count": 2,
     "metadata": {},
     "output_type": "execute_result"
    }
   ],
   "source": [
    "search_nav_of_fund_by_date(fund_code='100004')"
   ]
  },
  {
   "cell_type": "code",
   "execution_count": 3,
   "metadata": {},
   "outputs": [
    {
     "name": "stdout",
     "output_type": "stream",
     "text": [
      "1730 Files matching the regex 'menu8186-code000000' in the bucket 'dataset-system' with prefix 'dataset-menu8186-snapshot/':\n",
      "Successfully read file: dataset-menu8186-snapshot/menu8186-code000000-at20250219-save20250220.csv\n",
      "DataFrame shape: (176, 40)\n"
     ]
    },
    {
     "data": {
      "text/plain": [
       "1775.81"
      ]
     },
     "execution_count": 3,
     "metadata": {},
     "output_type": "execute_result"
    }
   ],
   "source": [
    "search_price_of_fund_by_date(fund_code='100004')"
   ]
  },
  {
   "cell_type": "code",
   "execution_count": 5,
   "metadata": {},
   "outputs": [
    {
     "name": "stdout",
     "output_type": "stream",
     "text": [
      "1730 Files matching the regex 'menu8186-code000000' in the bucket 'dataset-system' with prefix 'dataset-menu8186-snapshot/':\n",
      "Successfully read file: dataset-menu8186-snapshot/menu8186-code000000-at20250219-save20250220.csv\n",
      "DataFrame shape: (176, 40)\n"
     ]
    },
    {
     "data": {
      "text/plain": [
       "'라이프한국기업ESG향상일반사모투자신탁제1호'"
      ]
     },
     "execution_count": 5,
     "metadata": {},
     "output_type": "execute_result"
    }
   ],
   "source": [
    "search_something_of_fund_by_date(something='펀드명', fund_code='100004')"
   ]
  },
  {
   "cell_type": "code",
   "execution_count": 7,
   "metadata": {},
   "outputs": [
    {
     "name": "stdout",
     "output_type": "stream",
     "text": [
      "1730 Files matching the regex 'menu8186-code000000' in the bucket 'dataset-system' with prefix 'dataset-menu8186-snapshot/':\n",
      "Successfully read file: dataset-menu8186-snapshot/menu8186-code000000-at20250219-save20250220.csv\n",
      "DataFrame shape: (176, 40)\n"
     ]
    },
    {
     "data": {
      "text/plain": [
       "'강대권'"
      ]
     },
     "execution_count": 7,
     "metadata": {},
     "output_type": "execute_result"
    }
   ],
   "source": [
    "search_something_of_fund_by_date(something='운용역', fund_code='100004')"
   ]
  },
  {
   "cell_type": "code",
   "execution_count": 9,
   "metadata": {},
   "outputs": [
    {
     "name": "stdout",
     "output_type": "stream",
     "text": [
      "1730 Files matching the regex 'menu8186-code000000' in the bucket 'dataset-system' with prefix 'dataset-menu8186-snapshot/':\n",
      "Successfully read file: dataset-menu8186-snapshot/menu8186-code000000-at20250219-save20250220.csv\n",
      "DataFrame shape: (176, 40)\n"
     ]
    },
    {
     "data": {
      "text/plain": [
       "'남두우'"
      ]
     },
     "execution_count": 9,
     "metadata": {},
     "output_type": "execute_result"
    }
   ],
   "source": [
    "search_something_of_fund_by_date(something='운용역', fund_code='000005')"
   ]
  },
  {
   "cell_type": "code",
   "execution_count": null,
   "metadata": {},
   "outputs": [],
   "source": []
  }
 ],
 "metadata": {
  "kernelspec": {
   "display_name": "env-preprocessor",
   "language": "python",
   "name": "python3"
  },
  "language_info": {
   "codemirror_mode": {
    "name": "ipython",
    "version": 3
   },
   "file_extension": ".py",
   "mimetype": "text/x-python",
   "name": "python",
   "nbconvert_exporter": "python",
   "pygments_lexer": "ipython3",
   "version": "3.11.9"
  }
 },
 "nbformat": 4,
 "nbformat_minor": 2
}
